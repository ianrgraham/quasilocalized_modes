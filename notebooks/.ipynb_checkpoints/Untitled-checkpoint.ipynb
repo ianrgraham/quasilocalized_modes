{
 "cells": [
  {
   "cell_type": "code",
   "execution_count": 1,
   "metadata": {},
   "outputs": [],
   "source": [
    "import scipy.sparse as scsp"
   ]
  },
  {
   "cell_type": "code",
   "execution_count": 2,
   "metadata": {},
   "outputs": [],
   "source": [
    "import numpy as np\n",
    "import sys\n",
    "sys.path.insert(0,\"../\")\n",
    "import hessian_calc as hc\n",
    "import pandas as pd\n",
    "import scipy.sparse as scsp\n",
    "import scipy.sparse.linalg"
   ]
  },
  {
   "cell_type": "code",
   "execution_count": 3,
   "metadata": {},
   "outputs": [],
   "source": [
    "import gsd.hoomd"
   ]
  },
  {
   "cell_type": "code",
   "execution_count": 4,
   "metadata": {},
   "outputs": [],
   "source": [
    "dir = \"../../hoomd_test/final_data/constPhi1.0_N10000_seed0_maxStrain0.01_strainStep0.0001/\""
   ]
  },
  {
   "cell_type": "code",
   "execution_count": 82,
   "metadata": {},
   "outputs": [],
   "source": [
    "def get_r(pid):\n",
    "    if pid == 0:\n",
    "        r = 5/12\n",
    "    else:\n",
    "        r = 7/12\n",
    "    return r\n",
    "\n",
    "traj = dir + \"traj.gsd\"\n",
    "df = pd.read_csv(dir+'log.dat', delimiter='\\t')\n",
    "df = df.iloc[9::10,:]\n",
    "with gsd.hoomd.open(name=traj, mode='rb') as t:\n",
    "    s = t[0]\n",
    "    s2 = t[-1]"
   ]
  },
  {
   "cell_type": "code",
   "execution_count": 83,
   "metadata": {
    "scrolled": true
   },
   "outputs": [
    {
     "data": {
      "text/plain": [
       "array([89.84513, 89.84513,  1.     ,  0.     ,  0.     ,  0.     ],\n",
       "      dtype=float32)"
      ]
     },
     "execution_count": 83,
     "metadata": {},
     "output_type": "execute_result"
    }
   ],
   "source": [
    "s.configuration.box"
   ]
  },
  {
   "cell_type": "code",
   "execution_count": 84,
   "metadata": {},
   "outputs": [
    {
     "name": "stdout",
     "output_type": "stream",
     "text": [
      "Creating bond list.\n",
      "Constructing Hessian\n",
      "Calculating 100 smallest eigenmodes and vectors\n"
     ]
    }
   ],
   "source": [
    "mc2 = hc.mode_calculator(s2.particles.position[:,:2].flatten(), \n",
    "                        np.vectorize(get_r)(s2.particles.typeid),\n",
    "                        s2.configuration.box, hc.hertzian_k, e_func=hc.hertzian_e, k=100)"
   ]
  },
  {
   "cell_type": "code",
   "execution_count": 85,
   "metadata": {
    "scrolled": true
   },
   "outputs": [
    {
     "name": "stdout",
     "output_type": "stream",
     "text": [
      "Creating bond list.\n",
      "Constructing Hessian\n",
      "Calculating 100 smallest eigenmodes and vectors\n"
     ]
    }
   ],
   "source": [
    "mc = hc.mode_calculator(s.particles.position[:,:2].flatten(), \n",
    "                        np.vectorize(get_r)(s.particles.typeid),\n",
    "                        s.configuration.box, hc.hertzian_k, e_func=hc.hertzian_e, k=100)"
   ]
  },
  {
   "cell_type": "code",
   "execution_count": 86,
   "metadata": {},
   "outputs": [
    {
     "name": "stdout",
     "output_type": "stream",
     "text": [
      "Computing U3 terms\n",
      "Filtering eigenvectors\n",
      "CPU times: user 14 s, sys: 330 ms, total: 14.3 s\n",
      "Wall time: 13.9 s\n"
     ]
    }
   ],
   "source": [
    "%time cvec = mc.filter_modes()"
   ]
  },
  {
   "cell_type": "code",
   "execution_count": 87,
   "metadata": {},
   "outputs": [
    {
     "name": "stdout",
     "output_type": "stream",
     "text": [
      "Computing U3 terms\n",
      "Filtering eigenvectors\n",
      "CPU times: user 14 s, sys: 78.6 ms, total: 14.1 s\n",
      "Wall time: 14 s\n"
     ]
    }
   ],
   "source": [
    "%time cvec2 = mc2.filter_modes()"
   ]
  },
  {
   "cell_type": "code",
   "execution_count": 11,
   "metadata": {},
   "outputs": [],
   "source": [
    "import matplotlib.pyplot as plt\n",
    "import matplotlib as mpl"
   ]
  },
  {
   "cell_type": "code",
   "execution_count": 19,
   "metadata": {},
   "outputs": [],
   "source": [
    "def plot_mode(mc, mode=0, cmode=None, scale=1, width=1, norm=False, direction=False, log=False):\n",
    "    patches = []\n",
    "    if log:\n",
    "        wrap = np.log\n",
    "    else:\n",
    "        wrap = np.array\n",
    "    if cmode is None:\n",
    "        vec = scale*mc.evecs.T[mode]\n",
    "    else:\n",
    "        if norm:\n",
    "            vec = scale*cmode/np.linalg.norm(cmode)\n",
    "        else:\n",
    "            vec = scale*cmode\n",
    "    print(vec)\n",
    "    for idx, (p, r) in enumerate(zip(mc.pos, mc.rad)):\n",
    "        #patches.append(mpl.patches.Circle(p, r))\n",
    "        #if mode != -1:\n",
    "        if direction:\n",
    "            patches.append(mpl.patches.Arrow(p[0],p[1],vec[idx*mc.dim],vec[idx*mc.dim+1], width=width))\n",
    "        else:\n",
    "            patches.append(mpl.patches.Circle(p, wrap(np.linalg.norm(vec[idx*mc.dim:(idx+1)*mc.dim]))))\n",
    "        #elif cmode is not None:\n",
    "            \n",
    "    coll = mpl.collections.PatchCollection(patches, alpha=.2)\n",
    "    fig, ax = plt.subplots(figsize=(10,10))\n",
    "    ax.add_collection(coll)\n",
    "    lim = (-mc.box[0]/2,mc.box[0]/2)\n",
    "    plt.ylim(*lim)\n",
    "    plt.xlim(*lim)"
   ]
  },
  {
   "cell_type": "code",
   "execution_count": 112,
   "metadata": {},
   "outputs": [],
   "source": [
    "def plot_mode_collection(mc, cmode=None, k=100, alpha=.2, scale=1, width=1, norm=False, direction=False, log=False):\n",
    "    k1 = np.ceil(np.sqrt(k))\n",
    "    while True:\n",
    "        if k%k1 == 0:\n",
    "            k2 = k//k1\n",
    "            break\n",
    "        k1 += 1\n",
    "    fig = plt.figure(figsize=(4*k2,4*k1)) # Notice the equal aspect ratio\n",
    "    ax = [fig.add_subplot(k1,k2,i+1) for i in range(k)]\n",
    "    print(k1, k2)\n",
    "\n",
    "    for a in ax:\n",
    "        a.set_xticklabels([])\n",
    "        a.set_yticklabels([])\n",
    "        a.set_aspect('equal')\n",
    "    lim = (-mc.box[0]/2,mc.box[0]/2)\n",
    "\n",
    "    fig.subplots_adjust(wspace=0, hspace=0)\n",
    "    if cmode is None:\n",
    "        cmode = mc.evecs.T[::-1]\n",
    "    else:\n",
    "        cmode = cmode[::-1]\n",
    "    for a, mode in zip(ax, cmode):\n",
    "        patches = []\n",
    "        print(cmode)\n",
    "        if log:\n",
    "            wrap = np.log\n",
    "        else:\n",
    "            wrap = np.array\n",
    "        if norm:\n",
    "            vec = scale*cmode/np.linalg.norm(cmode)\n",
    "        else:\n",
    "            vec = scale*cmode\n",
    "        for idx, (p, r) in enumerate(zip(mc.pos, mc.rad)):\n",
    "\n",
    "            if direction:\n",
    "                patches.append(mpl.patches.Arrow(p[0],p[1],vec[idx*mc.dim],vec[idx*mc.dim+1], width=width))\n",
    "            else:\n",
    "                patches.append(mpl.patches.Circle(p, wrap(np.linalg.norm(vec[idx*mc.dim:(idx+1)*mc.dim]))))\n",
    "\n",
    "        coll = mpl.collections.PatchCollection(patches, alpha=alpha)\n",
    "        #fig, ax = plt.subplots(figsize=(10,10))\n",
    "        a.add_collection(coll)\n",
    "        a.set_ylim(*lim)\n",
    "        a.set_xlim(*lim)\n",
    "    "
   ]
  },
  {
   "cell_type": "code",
   "execution_count": 113,
   "metadata": {},
   "outputs": [
    {
     "data": {
      "text/plain": [
       "(20000, 100)"
      ]
     },
     "execution_count": 113,
     "metadata": {},
     "output_type": "execute_result"
    }
   ],
   "source": [
    "mc2.evecs.shape"
   ]
  },
  {
   "cell_type": "code",
   "execution_count": 115,
   "metadata": {},
   "outputs": [
    {
     "name": "stdout",
     "output_type": "stream",
     "text": [
      "5.0 2.0\n",
      "[-0.00014383 -0.00060584 -0.000141   ... -0.00015506 -0.00095381\n",
      "  0.00017919]\n",
      "[-2.19380003e-10 -9.24061190e-10 -2.15066137e-10 ... -2.36509104e-10\n",
      " -1.45480249e-09  2.73318633e-10]\n",
      "[-1.80210999e-11 -7.59075521e-11 -1.76667350e-11 ... -1.94281800e-11\n",
      " -1.19505610e-10  2.24519206e-11]\n",
      "[-4.61394711e-09 -2.56812274e-08 -3.50406093e-07 ... -2.55383151e-08\n",
      " -8.89735780e-08 -2.26910842e-08]\n",
      "[-2.23843340e-08 -1.01173728e-08 -7.56086818e-07 ...  1.12038658e-07\n",
      " -4.26817389e-07 -8.24725756e-08]\n",
      "[-3.34654740e-08 -4.44312686e-09 -8.89696531e-08 ...  4.13030450e-09\n",
      " -2.97663266e-07  9.29828881e-08]\n",
      "[-5.86258338e-09 -3.09978007e-08 -3.35904926e-08 ...  3.06995254e-07\n",
      " -2.56310877e-07 -1.22570240e-07]\n",
      "[-7.72053695e-08 -1.46415065e-08 -1.03705685e-06 ...  7.16327013e-08\n",
      "  4.42789414e-09 -1.47712179e-08]\n",
      "[-7.39494003e-08 -5.31230584e-09 -2.13000764e-06 ...  1.44339706e-07\n",
      "  7.41333506e-07 -1.01649441e-06]\n",
      "[-1.82846513e-07 -3.54592879e-08 -8.68130709e-06 ... -1.22956550e-09\n",
      "  1.12561268e-07 -1.33085239e-07]\n"
     ]
    },
    {
     "data": {
      "image/png": "[encoded data removed]",
      "text/plain": [
       "<Figure size 576x1440 with 10 Axes>"
      ]
     },
     "metadata": {
      "needs_background": "light"
     },
     "output_type": "display_data"
    }
   ],
   "source": [
    "plot_mode_collection(mc2, cmode=cvec2, scale=10, norm=True, k=10, direction=False, alpha=1)"
   ]
  },
  {
   "cell_type": "code",
   "execution_count": 76,
   "metadata": {},
   "outputs": [
    {
     "data": {
      "text/plain": [
       "50"
      ]
     },
     "execution_count": 76,
     "metadata": {},
     "output_type": "execute_result"
    }
   ],
   "source": [
    "len(mc.evals)"
   ]
  },
  {
   "cell_type": "code",
   "execution_count": null,
   "metadata": {},
   "outputs": [],
   "source": []
  }
 ],
 "metadata": {
  "kernelspec": {
   "display_name": "Python 3",
   "language": "python",
   "name": "python3"
  },
  "language_info": {
   "codemirror_mode": {
    "name": "ipython",
    "version": 3
   },
   "file_extension": ".py",
   "mimetype": "text/x-python",
   "name": "python",
   "nbconvert_exporter": "python",
   "pygments_lexer": "ipython3",
   "version": "3.8.1"
  }
 },
 "nbformat": 4,
 "nbformat_minor": 2
}
